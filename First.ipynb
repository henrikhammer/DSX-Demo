{
    "nbformat": 4, 
    "nbformat_minor": 0, 
    "cells": [
        {
            "source": "Code for inspecting your Spark Environment and installed packages", 
            "cell_type": "markdown", 
            "metadata": {
                "collapsed": true
            }
        }, 
        {
            "source": "#Spark version\nsc.version", 
            "execution_count": 2, 
            "cell_type": "code", 
            "metadata": {
                "collapsed": false
            }, 
            "outputs": [
                {
                    "execution_count": 2, 
                    "data": {
                        "text/plain": "'2.0.2'"
                    }, 
                    "output_type": "execute_result", 
                    "metadata": {}
                }
            ]
        }, 
        {
            "source": "# Show config of SparkContext\nimport numpy as np\nSC = sc._conf.getAll()\nar = np.asarray(SC)\nprint (ar)", 
            "execution_count": 2, 
            "cell_type": "code", 
            "metadata": {
                "collapsed": false
            }, 
            "outputs": [
                {
                    "name": "stdout", 
                    "text": "[['spark.eventLog.enabled' 'true']\n ['spark.deploy.resourceScheduler.factory'\n  'org.apache.spark.deploy.master.EGOResourceSchedulerFactory']\n ['spark.master' 'spark://yp-spark-dal09-env5-0019:7085']\n ['spark.app.id'\n  'app-20170326035559-0018-576bac04-5e42-472e-9b9e-03bc6f24df4b']\n ['spark.driver.port' '36368']\n ['spark.eventLog.dir'\n  '/gpfs/fs01/user/sd83-58ac732789a905-895d9af127e0/events']\n ['spark.r.command'\n  '/usr/local/src/bluemix_jupyter_bundle.v37/R/bin/Rscript']\n ['spark.executor.memory' '6G']\n ['spark.shuffle.service.port' '7341']\n ['spark.extraListeners' 'com.ibm.spaas.listeners.DB2DialectRegistrar']\n ['spark.driver.host' '10.143.133.18']\n ['spark.serializer.objectStreamReset' '100']\n ['spark.submit.deployMode' 'client']\n ['spark.worker.ui.retainedExecutors' '0']\n ['spark.ui.retainedJobs' '0']\n ['spark.shuffle.service.enabled' 'true']\n ['hive.metastore.warehouse.dir'\n  'file:/gpfs/global_fs01/sym_shared/YPProdSpark/user/sd83-58ac732789a905-895d9af127e0/notebook/work/spark-warehouse']\n ['spark.executor.extraJavaOptions'\n  '-Djava.security.egd=file:/dev/./urandom']\n ['spark.executor.id' 'driver']\n ['spark.port.maxRetries' '512']\n ['spark.logConf' 'true']\n ['spark.app.name' 'PySparkShell']\n ['spark.sql.catalogImplementation' 'hive']\n ['spark.rdd.compress' 'True']\n ['spark.ui.enabled' 'false']\n ['spark.task.maxFailures' '10']\n ['spark.history.fs.logDirectory'\n  '/gpfs/fs01/user/sd83-58ac732789a905-895d9af127e0/events']\n ['spark.driver.memory' '1512M']\n ['spark.ui.retainedStages' '0']\n ['spark.driver.maxResultSize' '1210M']]\n", 
                    "output_type": "stream"
                }
            ]
        }, 
        {
            "source": "#Installed libraries\nimport pip\ninstalled_packages = pip.get_installed_distributions()\ninstalled_packages_list = sorted([\"%s==%s\" % (i.key, i.version)\n     for i in installed_packages])\n#print(installed_packages_list)\nfor elem in installed_packages_list:\n        print (elem)", 
            "execution_count": 4, 
            "cell_type": "code", 
            "metadata": {
                "collapsed": false
            }, 
            "outputs": [
                {
                    "name": "stdout", 
                    "text": "alabaster==0.7.8\nanaconda-client==1.4.0\nanaconda-navigator==1.2.1\nargcomplete==1.0.0\nastropy==1.2.1\nbabel==2.3.3\nbackports.shutil-get-terminal-size==1.0.0\nbeautifulsoup4==4.4.1\nbiopython==1.66\nbitarray==0.8.1\nblaze==0.10.1\nbokeh==0.12.0\nboto==2.40.0\nbottleneck==1.1.0\nbrunel==2.0\ncdsax-jupyter-extensions==0.1\ncffi==1.6.0\nchest==0.2.3\nclick==6.6\ncloudpickle==0.2.1\nclyent==1.2.2\ncognitive-assistant==1.0.30\ncolorama==0.3.7\nconda-build==1.21.3\nconda==4.2.9\nconfigobj==5.0.6\nconfigparser==3.5.0\ncontextlib2==0.5.3\ncryptography==1.4\ncycler==0.10.0\ncython==0.24\ncytoolz==0.8.0\ndask==0.10.0\ndatashape==0.5.2\ndecorator==4.0.10\ndill==0.2.5\ndocutils==0.12\ndynd==0.7.3.dev1\nenum34==1.1.5\net-xmlfile==1.0.1\nfastcache==1.0.2\nflask-cors==2.1.2\nflask==0.11.1\nfuture==0.15.2\ngeopy==1.11.0\ngevent==1.1.1\ngreenlet==0.4.10\nh5py==2.6.0\nheapdict==1.0.0\nibmdbpy==0.1.4\nidna==2.1\nimagesize==0.7.1\nipykernel==4.3.1\nipython-genutils==0.1.0\nipython==4.2.0\nipywidgets==4.1.1\nitsdangerous==0.24\njaydebeapi==0.2.0\njdcal==1.2\njedi==0.9.0\njinja2==2.8\njpype1-py3==0.5.5.2\njpype1==0.6.1\njsonschema==2.5.1\njupyter-client==4.3.0\njupyter-console==4.1.1\njupyter-core==4.1.0\njupyter-pip==0.3\njupyter==1.0.0\nkeras==1.2.1\nlasagne==0.2.dev1\nlazy==1.2\nllvmlite==0.11.0\nlocket==0.2.0\nlxml==3.6.0\nmarkupsafe==0.23\nmatplotlib==1.5.1\nmaven-artifact==0.1.6\nmistune==0.7.2\nmpld3==0.2\nmpmath==0.19\nmultipledispatch==0.4.8\nnb-anacondacloud==1.1.0\nnb-conda-kernels==1.0.3\nnb-conda==1.1.0\nnbconvert==4.2.0\nnbformat==4.0.1\nnbpresent==3.0.2\nnetworkx==1.11\nnltk==3.2.1\nnose==1.3.7\nnotebook==4.2.1\nnumba==0.26.0\nnumexpr==2.6.0\nnumpy==1.11.1\nodo==0.5.0\nopenpyxl==2.3.2\npandas==0.18.1\npartd==0.3.4\npath.py==0.0.0\npathlib2==2.1.0\npatsy==0.4.1\npep8==1.7.0\npexpect==4.0.1\npickleshare==0.7.2\npillow==3.2.0\npip==8.1.2\npixiedust==1.0.2\nply==3.8\nprojectnb==0.1.6\nprotobuf==3.1.0\npsutil==4.3.0\nptyprocess==0.5.1\npy==1.4.31\npyasn1==0.1.9\npycosat==0.6.1\npycparser==2.14\npycrypto==2.6.1\npycurl==7.43.0\npyflakes==1.2.3\npygments==2.1.3\npyopenssl==16.0.0\npyparsing==2.1.4\npypyodbc==1.3.4\npytest==2.9.2\npython-dateutil==2.5.3\npytz==2016.4\npyyaml==3.11\npyzmq==15.2.0\nqtconsole==4.2.1\nqtpy==1.0.2\nredis==2.10.5\nrequests==2.10.0\nrope-py3k==0.9.4.post1\nscikit-image==0.12.3\nscikit-learn==0.17.1\nscipy==0.17.1\nsetuptools==23.0.0\nsimplegeneric==0.8.1\nsimplejson==3.8.1\nsingledispatch==3.4.0.3\nsix==1.10.0\nsnowballstemmer==1.2.1\nsockjs-tornado==1.0.3\nsphinx-rtd-theme==0.1.9\nsphinx==1.4.1\nspyder==2.3.9\nsqlalchemy==1.0.13\nstatsmodels==0.6.1\nstreamsx==0.6.1\nsympy==1.0\ntables==3.2.2\ntensorflow==0.12.1\nterminado==0.6\ntheano==0.8.2\ntoolz==0.8.0\ntornado==4.3\ntraitlets==4.2.1\nunicodecsv==0.14.1\nwerkzeug==0.11.10\nwheel==0.29.0\nxlrd==1.0.0\nxlsxwriter==0.9.2\nxlwt==1.1.2\n", 
                    "output_type": "stream"
                }
            ]
        }, 
        {
            "source": "", 
            "execution_count": null, 
            "cell_type": "code", 
            "metadata": {
                "collapsed": true
            }, 
            "outputs": []
        }
    ], 
    "metadata": {
        "language_info": {
            "nbconvert_exporter": "python", 
            "mimetype": "text/x-python", 
            "pygments_lexer": "ipython3", 
            "version": "3.5.2", 
            "file_extension": ".py", 
            "name": "python", 
            "codemirror_mode": {
                "name": "ipython", 
                "version": 3
            }
        }, 
        "kernelspec": {
            "name": "python3-spark20", 
            "display_name": "Python 3.5 (Experimental) with Spark 2.0", 
            "language": "python"
        }
    }
}